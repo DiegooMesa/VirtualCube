{
 "cells": [
  {
   "cell_type": "code",
   "execution_count": 632,
   "id": "54a1f36a",
   "metadata": {},
   "outputs": [],
   "source": [
    "#DEFINIMOS UNA CARA DEL CUBO"
   ]
  },
  {
   "cell_type": "code",
   "execution_count": 633,
   "id": "638b0007",
   "metadata": {},
   "outputs": [],
   "source": [
    "import numpy as np\n",
    "import math"
   ]
  },
  {
   "cell_type": "code",
   "execution_count": 634,
   "id": "497d209d",
   "metadata": {},
   "outputs": [],
   "source": [
    "class Cube:\n",
    "    def __init__(self):\n",
    "        self.Wx = np.array([['W', 'W', 'W'], ['W', 'W', 'W'], ['W', 'W', 'W']])\n",
    "        self.Rx = np.array([['R', 'R', 'R'], ['R', 'R', 'R'], ['R', 'R', 'R']])\n",
    "        self.Bx = np.array([['B', 'B', 'B'], ['B', 'B', 'B'], ['B', 'B', 'B']])\n",
    "        self.Ox = np.array([['O', 'O', 'O'], ['O', 'O', 'O'], ['O', 'O', 'O']])\n",
    "        self.Gx = np.array([['G', 'G', 'G'], ['G', 'G', 'G'], ['G', 'G', 'G']])\n",
    "        self.Yx = np.array([['Y', 'Y', 'Y'], ['Y', 'Y', 'Y'], ['Y', 'Y', 'Y']])\n",
    "    def showCube(self):\n",
    "        print(np.array(self.Wx))\n",
    "        print(\"_ _ _ _\")\n",
    "        print(np.array(self.Rx))\n",
    "        print(\"_ _ _ _\")\n",
    "        print(np.array(self.Bx))\n",
    "        print(\"_ _ _ _\")\n",
    "        print(np.array(self.Ox))\n",
    "        print(\"_ _ _ _\")\n",
    "        print(np.array(self.Gx))\n",
    "        print(\"_ _ _ _\")\n",
    "        print(np.array(self.Yx))\n",
    "        \n",
    "    def currentVector (self, vector):\n",
    "        self.CV = vector"
   ]
  },
  {
   "cell_type": "code",
   "execution_count": 635,
   "id": "be67dc7c",
   "metadata": {},
   "outputs": [],
   "source": [
    "cubo = Cube()\n",
    "cubo.CV = [0,0,-1]"
   ]
  },
  {
   "cell_type": "code",
   "execution_count": 636,
   "id": "e1f5f49d",
   "metadata": {},
   "outputs": [],
   "source": [
    "def faceRotation(current, rot, axis):\n",
    "    if rot == 90:\n",
    "        sin = 1\n",
    "        cos = 0\n",
    "    elif rot == -90:\n",
    "        sin = -1\n",
    "        cos = 0\n",
    "        \n",
    "    x = current[0]\n",
    "    y = current[1]\n",
    "    z = current[2]\n",
    "    \n",
    "    if axis == \"X\":\n",
    "        x_ = x\n",
    "        y_ =(y * cos) - (z * sin)\n",
    "        z_ = (y * sin) + (z * cos)\n",
    "        \n",
    "    elif axis == \"Y\":\n",
    "        x_ = (x * cos) + (z * sin)\n",
    "        y_ = y\n",
    "        z_ = (-x * sin) + (z * cos)\n",
    "        \n",
    "    elif axis == \"Z\":\n",
    "        x_ = (x * cos) - (y * sin)\n",
    "        y_ = (x * sin) + (y * cos)\n",
    "        z_ = z\n",
    "        \n",
    "\n",
    "    return [x_, y_, z_]"
   ]
  },
  {
   "cell_type": "code",
   "execution_count": 637,
   "id": "70b7377e",
   "metadata": {},
   "outputs": [],
   "source": [
    "def getFaceConfig(vector):\n",
    "    if vector == [0, 1, 0]:\n",
    "        face = cubo.Wx\n",
    "    elif vector == [0, 0, -1]:\n",
    "        face = cubo.Gx\n",
    "    elif vector == [-1, 0, 0]:\n",
    "        face = cubo.Ox\n",
    "    elif vector == [0, 0, 1]:\n",
    "        face = cubo.Bx\n",
    "    elif vector == [1, 0, 0]:\n",
    "        face = cubo.Rx\n",
    "    elif vector == [0, -1, 0]:\n",
    "        face = cubo.Yx\n",
    "        \n",
    "    return face"
   ]
  },
  {
   "cell_type": "code",
   "execution_count": 638,
   "id": "e6704e07",
   "metadata": {},
   "outputs": [],
   "source": [
    "#PARA F"
   ]
  },
  {
   "cell_type": "code",
   "execution_count": 639,
   "id": "e9b103e0",
   "metadata": {},
   "outputs": [
    {
     "data": {
      "text/plain": [
       "array([['O', 'O', 'O'],\n",
       "       ['O', 'O', 'O'],\n",
       "       ['O', 'O', 'O']], dtype='<U1')"
      ]
     },
     "execution_count": 639,
     "metadata": {},
     "output_type": "execute_result"
    }
   ],
   "source": [
    "new = faceRotation([0,0,-1], 90, \"Y\")\n",
    "getFaceConfig(new)"
   ]
  },
  {
   "cell_type": "code",
   "execution_count": 640,
   "id": "d08d3f8b",
   "metadata": {},
   "outputs": [],
   "source": [
    "newvector = faceRotation([0,0,-1], 90, \"X\")"
   ]
  },
  {
   "cell_type": "code",
   "execution_count": 641,
   "id": "18e0f462",
   "metadata": {},
   "outputs": [],
   "source": [
    "def YRot(vector):\n",
    "    count = 0\n",
    "    while True:\n",
    "        if vector == cubo.CV:\n",
    "            return count\n",
    "        else:\n",
    "            vector = faceRotation(vector, 90, \"Y\")\n",
    "            count += 1"
   ]
  },
  {
   "cell_type": "code",
   "execution_count": 642,
   "id": "b4fe80c8",
   "metadata": {},
   "outputs": [],
   "source": [
    "cubo.CV = [1,0,0]"
   ]
  },
  {
   "cell_type": "code",
   "execution_count": 643,
   "id": "6be94c27",
   "metadata": {},
   "outputs": [
    {
     "data": {
      "text/plain": [
       "2"
      ]
     },
     "execution_count": 643,
     "metadata": {},
     "output_type": "execute_result"
    }
   ],
   "source": [
    "YRot([-1,0,0])"
   ]
  },
  {
   "cell_type": "code",
   "execution_count": 644,
   "id": "afaa6782",
   "metadata": {},
   "outputs": [
    {
     "data": {
      "text/plain": [
       "[1, 0, 0]"
      ]
     },
     "execution_count": 644,
     "metadata": {},
     "output_type": "execute_result"
    }
   ],
   "source": [
    "cubo.CV"
   ]
  },
  {
   "cell_type": "code",
   "execution_count": 645,
   "id": "c580dc35",
   "metadata": {},
   "outputs": [
    {
     "data": {
      "text/plain": [
       "0"
      ]
     },
     "execution_count": 645,
     "metadata": {},
     "output_type": "execute_result"
    }
   ],
   "source": [
    "upRot([0,0,-1])"
   ]
  },
  {
   "cell_type": "code",
   "execution_count": 646,
   "id": "7c1ecb2c",
   "metadata": {},
   "outputs": [],
   "source": [
    "def confReplacement(vector, newConf):\n",
    "    if vector == [0, 1, 0]:\n",
    "        cubo.Wx = newConf\n",
    "    elif vector == [0, 0, -1]:\n",
    "        cubo.Gx = newConf\n",
    "    elif vector == [-1, 0, 0]:\n",
    "        cubo.Ox = newConf\n",
    "    elif vector == [0, 0, 1]:\n",
    "        cubo.Bx = newConf\n",
    "    elif vector == [1, 0, 0]:\n",
    "        cubo.Rx = newConf\n",
    "    elif vector == [0, -1, 0]:\n",
    "        cubo.Yx = newConf"
   ]
  },
  {
   "cell_type": "code",
   "execution_count": 656,
   "id": "c34ce48c",
   "metadata": {},
   "outputs": [],
   "source": [
    "def move(vector):\n",
    "    \n",
    "    if vector[1] == 0:\n",
    "        if vector[0] != 0:\n",
    "            axis = \"Z\"\n",
    "        elif vector[0] == 0:\n",
    "            axis = \"X\"\n",
    "        if vector[0] == -1 or vector[2] == 1:\n",
    "            mult = -1\n",
    "        else:\n",
    "            mult = 1\n",
    "\n",
    "        upFace = faceRotation(vector, 90 * mult, axis)\n",
    "        rightFace = faceRotation(vector, -90, \"Y\")\n",
    "        downFace = faceRotation(vector, -90 * mult, axis)\n",
    "        leftFace = faceRotation(vector, 90, \"Y\")\n",
    "\n",
    "        vectorConf = getFaceConfig(vector)\n",
    "        upConf = getFaceConfig(upFace)\n",
    "        rightConf = getFaceConfig(rightFace)\n",
    "        downConf = getFaceConfig(downFace)\n",
    "        leftConf = getFaceConfig(leftFace)\n",
    "\n",
    "        newUp = np.rot90(upConf, k=-1 * (YRot(vector)))\n",
    "        newDown = np.rot90(downConf, k=1 * (YRot(vector)))\n",
    "\n",
    "        lftmov = (leftConf[0][2], leftConf[1][2], leftConf[2][2])\n",
    "        upmov = (newUp[2][0], newUp[2][1], newUp[2][2])\n",
    "        rghtmov = (rightConf[0][0], rightConf[1][0], rightConf[2][0])\n",
    "        dwnmov = (newDown[0][0], newDown[0][1], newDown[0][2])\n",
    "\n",
    "        newConfLeft = [[leftConf[0][0], leftConf[0][1], dwnmov[0]],\n",
    "                       [leftConf[1][0], leftConf[1][1], dwnmov[1]],\n",
    "                       [leftConf[2][0], leftConf[2][1], dwnmov[2]]]\n",
    "        \n",
    "        newConfUp = [[newUp[0][0], newUp[0][1], newUp[0][2]],\n",
    "                     [newUp[1][0], newUp[1][1], newUp[1][2]],\n",
    "                     [lftmov[2], lftmov[1], lftmov[0]]]\n",
    "\n",
    "        newConfRight = [[upmov[0], rightConf[0][1], rightConf[0][2]],\n",
    "                        [upmov[1], rightConf[1][1], rightConf[1][2]],\n",
    "                        [upmov[2], rightConf[2][1], rightConf[2][2]]]\n",
    "\n",
    "        newConfDown = [[rghtmov[2], rghtmov[1], rghtmov[0]],\n",
    "                       [newDown[1][0], newDown[1][1], newDown[1][2]],\n",
    "                       [newDown[2][0], newDown[2][1], newDown[2][2]]]\n",
    "\n",
    "        newConfvector = np.rot90(vectorConf, k=-1)\n",
    "\n",
    "        confReplacement(upFace, newConfUp)\n",
    "        confReplacement(leftFace, newConfLeft)\n",
    "        confReplacement(rightFace, newConfRight)\n",
    "        confReplacement(downFace, newConfDown)\n",
    "        confReplacement(vector, newConfvector)\n",
    "        \n",
    "        cubo.CV = vector"
   ]
  },
  {
   "cell_type": "code",
   "execution_count": 657,
   "id": "913f6656",
   "metadata": {},
   "outputs": [
    {
     "name": "stdout",
     "output_type": "stream",
     "text": [
      "[['B' 'R' 'B']\n",
      " ['B' 'W' 'B']\n",
      " ['G' 'R' 'G']]\n",
      "_ _ _ _\n",
      "[['Y' 'Y' 'Y']\n",
      " ['O' 'R' 'R']\n",
      " ['W' 'W' 'W']]\n",
      "_ _ _ _\n",
      "[['O' 'B' 'O']\n",
      " ['Y' 'B' 'Y']\n",
      " ['R' 'B' 'R']]\n",
      "_ _ _ _\n",
      "[['W' 'W' 'W']\n",
      " ['O' 'O' 'R']\n",
      " ['Y' 'Y' 'Y']]\n",
      "_ _ _ _\n",
      "[['O' 'G' 'O']\n",
      " ['W' 'G' 'W']\n",
      " ['R' 'G' 'R']]\n",
      "_ _ _ _\n",
      "[['B' 'O' 'B']\n",
      " ['G' 'Y' 'G']\n",
      " ['G' 'O' 'G']]\n"
     ]
    }
   ],
   "source": [
    "move([0,0,-1])\n",
    "cubo.showCube()"
   ]
  },
  {
   "cell_type": "code",
   "execution_count": 649,
   "id": "a532d8b2",
   "metadata": {},
   "outputs": [
    {
     "data": {
      "text/plain": [
       "[0, 0, -1]"
      ]
     },
     "execution_count": 649,
     "metadata": {},
     "output_type": "execute_result"
    }
   ],
   "source": [
    "cubo.CV"
   ]
  },
  {
   "cell_type": "code",
   "execution_count": null,
   "id": "ea5d2830",
   "metadata": {},
   "outputs": [],
   "source": []
  }
 ],
 "metadata": {
  "kernelspec": {
   "display_name": "Python [conda env:data]",
   "language": "python",
   "name": "conda-env-data-py"
  },
  "language_info": {
   "codemirror_mode": {
    "name": "ipython",
    "version": 3
   },
   "file_extension": ".py",
   "mimetype": "text/x-python",
   "name": "python",
   "nbconvert_exporter": "python",
   "pygments_lexer": "ipython3",
   "version": "3.10.4"
  }
 },
 "nbformat": 4,
 "nbformat_minor": 5
}
